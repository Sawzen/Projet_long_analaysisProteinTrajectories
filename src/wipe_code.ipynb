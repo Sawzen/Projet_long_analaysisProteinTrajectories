{
 "cells": [
  {
   "cell_type": "code",
   "execution_count": 2,
   "metadata": {},
   "outputs": [],
   "source": [
    "# Reproduire les expériencces dand l'article\n",
    "# implémenter les méthodes suivantes : PCA, t-SNE, sketch-map, ISOMAP,  Laplacian Eigenmaps, Dist_match\n",
    "\n",
    "# Question : doit-on refaire la dynamique ? ou lire le fichier xtc avec mdanalysis ou mdtraj ?\n",
    "# fichier xtc : fichiers qui contient la trajétoire de la protéines : ie toute les positons de la protéine\n",
    "# au cours du temps\n",
    "# Calcule de chaque angle dièdre du fichier xtc, les mettres en array ou list\n",
    "# faire un data frame ? et projection de cet array avec les différentes méthode de réduciton de dimensions\n",
    "\n",
    "# Pour la PCA, il faudra calculer les angles dièdres et utilisé ces angles pr faire la PCA, \n",
    "# Pour t-SNE ?"
   ]
  },
  {
   "cell_type": "code",
   "execution_count": null,
   "metadata": {},
   "outputs": [],
   "source": [
    "# Projection des données avec PCA \n",
    "# Importation des librairies\n",
    "\n",
    "import numpy\n",
    "from sklearn.decomposition import PCA\n"
   ]
  },
  {
   "cell_type": "code",
   "execution_count": null,
   "metadata": {},
   "outputs": [],
   "source": []
  }
 ],
 "metadata": {
  "kernelspec": {
   "display_name": "Python 3",
   "language": "python",
   "name": "python3"
  },
  "language_info": {
   "codemirror_mode": {
    "name": "ipython",
    "version": 3
   },
   "file_extension": ".py",
   "mimetype": "text/x-python",
   "name": "python",
   "nbconvert_exporter": "python",
   "pygments_lexer": "ipython3",
   "version": "3.8.3"
  }
 },
 "nbformat": 4,
 "nbformat_minor": 4
}
